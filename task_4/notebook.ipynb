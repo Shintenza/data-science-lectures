{
 "cells": [
  {
   "cell_type": "markdown",
   "metadata": {},
   "source": [
    "### Today we are going to perform the simple classification of the amazon reviews' sentiment.\n",
    "\n",
    "### Please, download the dataset amazon_baby.csv."
   ]
  },
  {
   "cell_type": "code",
   "execution_count": 133,
   "metadata": {
    "collapsed": false
   },
   "outputs": [
    {
     "data": {
      "text/html": [
       "<div>\n",
       "<style scoped>\n",
       "    .dataframe tbody tr th:only-of-type {\n",
       "        vertical-align: middle;\n",
       "    }\n",
       "\n",
       "    .dataframe tbody tr th {\n",
       "        vertical-align: top;\n",
       "    }\n",
       "\n",
       "    .dataframe thead th {\n",
       "        text-align: right;\n",
       "    }\n",
       "</style>\n",
       "<table border=\"1\" class=\"dataframe\">\n",
       "  <thead>\n",
       "    <tr style=\"text-align: right;\">\n",
       "      <th></th>\n",
       "      <th>name</th>\n",
       "      <th>review</th>\n",
       "      <th>rating</th>\n",
       "    </tr>\n",
       "  </thead>\n",
       "  <tbody>\n",
       "    <tr>\n",
       "      <th>0</th>\n",
       "      <td>Planetwise Flannel Wipes</td>\n",
       "      <td>These flannel wipes are OK, but in my opinion ...</td>\n",
       "      <td>3</td>\n",
       "    </tr>\n",
       "    <tr>\n",
       "      <th>1</th>\n",
       "      <td>Planetwise Wipe Pouch</td>\n",
       "      <td>it came early and was not disappointed. i love...</td>\n",
       "      <td>5</td>\n",
       "    </tr>\n",
       "    <tr>\n",
       "      <th>2</th>\n",
       "      <td>Annas Dream Full Quilt with 2 Shams</td>\n",
       "      <td>Very soft and comfortable and warmer than it l...</td>\n",
       "      <td>5</td>\n",
       "    </tr>\n",
       "    <tr>\n",
       "      <th>3</th>\n",
       "      <td>Stop Pacifier Sucking without tears with Thumb...</td>\n",
       "      <td>This is a product well worth the purchase.  I ...</td>\n",
       "      <td>5</td>\n",
       "    </tr>\n",
       "    <tr>\n",
       "      <th>4</th>\n",
       "      <td>Stop Pacifier Sucking without tears with Thumb...</td>\n",
       "      <td>All of my kids have cried non-stop when I trie...</td>\n",
       "      <td>5</td>\n",
       "    </tr>\n",
       "  </tbody>\n",
       "</table>\n",
       "</div>"
      ],
      "text/plain": [
       "                                                name  \\\n",
       "0                           Planetwise Flannel Wipes   \n",
       "1                              Planetwise Wipe Pouch   \n",
       "2                Annas Dream Full Quilt with 2 Shams   \n",
       "3  Stop Pacifier Sucking without tears with Thumb...   \n",
       "4  Stop Pacifier Sucking without tears with Thumb...   \n",
       "\n",
       "                                              review  rating  \n",
       "0  These flannel wipes are OK, but in my opinion ...       3  \n",
       "1  it came early and was not disappointed. i love...       5  \n",
       "2  Very soft and comfortable and warmer than it l...       5  \n",
       "3  This is a product well worth the purchase.  I ...       5  \n",
       "4  All of my kids have cried non-stop when I trie...       5  "
      ]
     },
     "execution_count": 133,
     "metadata": {},
     "output_type": "execute_result"
    }
   ],
   "source": [
    "import pandas as pd\n",
    "import numpy as np\n",
    "import matplotlib.pyplot as plt\n",
    "import string\n",
    "from sklearn.linear_model import LogisticRegression\n",
    "\n",
    "def remove_punctuation(text):\n",
    "    translator = str.maketrans('', '', string.punctuation)\n",
    "    return text.translate(translator)\n",
    "\n",
    "baby_df = pd.read_csv('amazon_baby.csv')\n",
    "baby_df.head()"
   ]
  },
  {
   "cell_type": "markdown",
   "metadata": {},
   "source": [
    "## Exercise 1 (data preparation)\n",
    "a) Remove punctuation from reviews using the given function.   \n",
    "b) Replace all missing (nan) revies with empty \"\" string.  \n",
    "c) Drop all the entries with rating = 3, as they have neutral sentiment.   \n",
    "d) Set all positive ($\\geq$4) ratings to 1 and negative($\\leq$2) to -1."
   ]
  },
  {
   "cell_type": "code",
   "execution_count": 134,
   "metadata": {
    "collapsed": false
   },
   "outputs": [
    {
     "data": {
      "text/plain": [
       "True"
      ]
     },
     "execution_count": 134,
     "metadata": {},
     "output_type": "execute_result"
    }
   ],
   "source": [
    "#a)\n",
    "baby_df['review'] = baby_df['review'].astype(str)\n",
    "baby_df['review'] = baby_df['review'].apply(remove_punctuation)\n",
    "\n",
    "#short test: \n",
    "baby_df[\"review\"][4] == 'All of my kids have cried nonstop when I tried to ween them off their pacifier until I found Thumbuddy To Loves Binky Fairy Puppet  It is an easy way to work with your kids to allow them to understand where their pacifier is going and help them part from itThis is a must buy book and a great gift for expecting parents  You will save them soo many headachesThanks for this book  You all rock'\n",
    "remove_punctuation(baby_df[\"review\"][4]) == 'All of my kids have cried nonstop when I tried to ween them off their pacifier until I found Thumbuddy To Loves Binky Fairy Puppet  It is an easy way to work with your kids to allow them to understand where their pacifier is going and help them part from itThis is a must buy book and a great gift for expecting parents  You will save them soo many headachesThanks for this book  You all rock'"
   ]
  },
  {
   "cell_type": "code",
   "execution_count": 135,
   "metadata": {
    "collapsed": false
   },
   "outputs": [
    {
     "data": {
      "text/plain": [
       "True"
      ]
     },
     "execution_count": 135,
     "metadata": {},
     "output_type": "execute_result"
    }
   ],
   "source": [
    "#b)\n",
    "baby_df['review'].replace(np.nan, \"\", inplace=True)\n",
    "\n",
    "#short test:\n",
    "baby_df[\"review\"][38] == baby_df[\"review\"][38]"
   ]
  },
  {
   "cell_type": "code",
   "execution_count": 136,
   "metadata": {
    "collapsed": false
   },
   "outputs": [
    {
     "data": {
      "text/plain": [
       "0"
      ]
     },
     "execution_count": 136,
     "metadata": {},
     "output_type": "execute_result"
    }
   ],
   "source": [
    "#c)\n",
    "\n",
    "baby_df.drop(baby_df[baby_df['rating']==3].index, inplace=True)\n",
    "\n",
    "#short test:\n",
    "sum(baby_df[\"rating\"] == 3)"
   ]
  },
  {
   "cell_type": "code",
   "execution_count": 137,
   "metadata": {
    "collapsed": false
   },
   "outputs": [
    {
     "data": {
      "text/plain": [
       "0"
      ]
     },
     "execution_count": 137,
     "metadata": {},
     "output_type": "execute_result"
    }
   ],
   "source": [
    "#d) \n",
    "def change_ratings(rating):\n",
    "    if rating <=2:\n",
    "        return -1\n",
    "    return 1\n",
    "\n",
    "baby_df['rating'] = baby_df['rating'].apply(change_ratings)\n",
    "\n",
    "#short test:\n",
    "sum(baby_df[\"rating\"]**2 != 1)"
   ]
  },
  {
   "cell_type": "markdown",
   "metadata": {},
   "source": [
    "## CountVectorizer\n",
    "In order to analyze strings, we need to assign them numerical values. We will use one of the simplest string representation, which transforms strings into the $n$ dimensional vectors. The number of dimensions will be the size of our dictionary, and then the values of the vector will represent the number of appereances of the given word in the sentence."
   ]
  },
  {
   "cell_type": "code",
   "execution_count": 138,
   "metadata": {
    "collapsed": false
   },
   "outputs": [
    {
     "name": "stdout",
     "output_type": "stream",
     "text": [
      "['adore' 'and' 'apples' 'bananas' 'dislike' 'hate' 'like' 'oranges' 'they'\n",
      " 'we']\n",
      "[[0 0 1 0 0 0 1 0 0 1]\n",
      " [0 0 0 0 0 1 0 1 0 1]\n",
      " [1 0 0 1 0 0 0 0 0 0]\n",
      " [0 1 1 0 0 0 2 1 0 1]\n",
      " [0 0 0 1 1 0 0 0 1 0]]\n"
     ]
    }
   ],
   "source": [
    "from sklearn.feature_extraction.text import CountVectorizer\n",
    "\n",
    "vectorizer = CountVectorizer()\n",
    "reviews_train_example = [\"We like apples\",\n",
    "                   \"We hate oranges\",\n",
    "                   \"I adore bananas\",\n",
    "                   \"We like like apples and oranges\",\n",
    "                   \"They dislike bananas\"]\n",
    "\n",
    "X_train_example = vectorizer.fit_transform(reviews_train_example)\n",
    "\n",
    "print(vectorizer.get_feature_names_out())\n",
    "print(X_train_example.todense())\n",
    "\n"
   ]
  },
  {
   "cell_type": "code",
   "execution_count": 139,
   "metadata": {
    "collapsed": false
   },
   "outputs": [
    {
     "name": "stdout",
     "output_type": "stream",
     "text": [
      "[[0 0 0 1 0 0 1 0 1 0]\n",
      " [0 1 1 1 0 1 0 1 0 1]\n",
      " [0 0 0 1 0 0 0 0 0 1]]\n"
     ]
    }
   ],
   "source": [
    "reviews_test_example = [\"They like bananas\",\n",
    "                   \"We hate oranges bananas and apples\",\n",
    "                   \"We love bananas\"] #New word!\n",
    "\n",
    "X_test_example = vectorizer.transform(reviews_test_example)\n",
    "\n",
    "print(X_test_example.todense())"
   ]
  },
  {
   "cell_type": "markdown",
   "metadata": {},
   "source": [
    "We should acknowledge few facts. Firstly, CountVectorizer does not take order into account. Secondly, it ignores one-letter words (this can be changed during initialization). Finally, for test values, CountVectorizer ignores words which are not in it's dictionary."
   ]
  },
  {
   "cell_type": "markdown",
   "metadata": {},
   "source": [
    "## Exercise 2 \n",
    "a) Split dataset into training and test sets.     \n",
    "b) Transform reviews into vectors using CountVectorizer. "
   ]
  },
  {
   "cell_type": "code",
   "execution_count": 140,
   "metadata": {
    "collapsed": true
   },
   "outputs": [],
   "source": [
    "#a)\n",
    "from sklearn.model_selection import train_test_split\n",
    "x_train_raw, x_test_raw, y_train, y_test = train_test_split(baby_df['review'].values, baby_df['rating'].values, test_size=0.2, random_state=42)"
   ]
  },
  {
   "cell_type": "code",
   "execution_count": 141,
   "metadata": {
    "collapsed": true
   },
   "outputs": [],
   "source": [
    "#b)\n",
    "vectorizer = CountVectorizer()\n",
    "\n",
    "x_train = vectorizer.fit_transform(x_train_raw)\n",
    "x_test = vectorizer.transform(x_test_raw)"
   ]
  },
  {
   "cell_type": "markdown",
   "metadata": {},
   "source": [
    "## Exercise 3 \n",
    "a) Train LogisticRegression model on training data (reviews processed with CountVectorizer, ratings as they were).   \n",
    "b) Print 10 most positive and 10 most negative words."
   ]
  },
  {
   "cell_type": "code",
   "execution_count": 142,
   "metadata": {
    "collapsed": true
   },
   "outputs": [
    {
     "name": "stderr",
     "output_type": "stream",
     "text": [
      "/home/kamil/.local/lib/python3.11/site-packages/sklearn/linear_model/_logistic.py:460: ConvergenceWarning: lbfgs failed to converge (status=1):\n",
      "STOP: TOTAL NO. of ITERATIONS REACHED LIMIT.\n",
      "\n",
      "Increase the number of iterations (max_iter) or scale the data as shown in:\n",
      "    https://scikit-learn.org/stable/modules/preprocessing.html\n",
      "Please also refer to the documentation for alternative solver options:\n",
      "    https://scikit-learn.org/stable/modules/linear_model.html#logistic-regression\n",
      "  n_iter_i = _check_optimize_result(\n"
     ]
    },
    {
     "data": {
      "text/html": [
       "<style>#sk-container-id-8 {color: black;}#sk-container-id-8 pre{padding: 0;}#sk-container-id-8 div.sk-toggleable {background-color: white;}#sk-container-id-8 label.sk-toggleable__label {cursor: pointer;display: block;width: 100%;margin-bottom: 0;padding: 0.3em;box-sizing: border-box;text-align: center;}#sk-container-id-8 label.sk-toggleable__label-arrow:before {content: \"▸\";float: left;margin-right: 0.25em;color: #696969;}#sk-container-id-8 label.sk-toggleable__label-arrow:hover:before {color: black;}#sk-container-id-8 div.sk-estimator:hover label.sk-toggleable__label-arrow:before {color: black;}#sk-container-id-8 div.sk-toggleable__content {max-height: 0;max-width: 0;overflow: hidden;text-align: left;background-color: #f0f8ff;}#sk-container-id-8 div.sk-toggleable__content pre {margin: 0.2em;color: black;border-radius: 0.25em;background-color: #f0f8ff;}#sk-container-id-8 input.sk-toggleable__control:checked~div.sk-toggleable__content {max-height: 200px;max-width: 100%;overflow: auto;}#sk-container-id-8 input.sk-toggleable__control:checked~label.sk-toggleable__label-arrow:before {content: \"▾\";}#sk-container-id-8 div.sk-estimator input.sk-toggleable__control:checked~label.sk-toggleable__label {background-color: #d4ebff;}#sk-container-id-8 div.sk-label input.sk-toggleable__control:checked~label.sk-toggleable__label {background-color: #d4ebff;}#sk-container-id-8 input.sk-hidden--visually {border: 0;clip: rect(1px 1px 1px 1px);clip: rect(1px, 1px, 1px, 1px);height: 1px;margin: -1px;overflow: hidden;padding: 0;position: absolute;width: 1px;}#sk-container-id-8 div.sk-estimator {font-family: monospace;background-color: #f0f8ff;border: 1px dotted black;border-radius: 0.25em;box-sizing: border-box;margin-bottom: 0.5em;}#sk-container-id-8 div.sk-estimator:hover {background-color: #d4ebff;}#sk-container-id-8 div.sk-parallel-item::after {content: \"\";width: 100%;border-bottom: 1px solid gray;flex-grow: 1;}#sk-container-id-8 div.sk-label:hover label.sk-toggleable__label {background-color: #d4ebff;}#sk-container-id-8 div.sk-serial::before {content: \"\";position: absolute;border-left: 1px solid gray;box-sizing: border-box;top: 0;bottom: 0;left: 50%;z-index: 0;}#sk-container-id-8 div.sk-serial {display: flex;flex-direction: column;align-items: center;background-color: white;padding-right: 0.2em;padding-left: 0.2em;position: relative;}#sk-container-id-8 div.sk-item {position: relative;z-index: 1;}#sk-container-id-8 div.sk-parallel {display: flex;align-items: stretch;justify-content: center;background-color: white;position: relative;}#sk-container-id-8 div.sk-item::before, #sk-container-id-8 div.sk-parallel-item::before {content: \"\";position: absolute;border-left: 1px solid gray;box-sizing: border-box;top: 0;bottom: 0;left: 50%;z-index: -1;}#sk-container-id-8 div.sk-parallel-item {display: flex;flex-direction: column;z-index: 1;position: relative;background-color: white;}#sk-container-id-8 div.sk-parallel-item:first-child::after {align-self: flex-end;width: 50%;}#sk-container-id-8 div.sk-parallel-item:last-child::after {align-self: flex-start;width: 50%;}#sk-container-id-8 div.sk-parallel-item:only-child::after {width: 0;}#sk-container-id-8 div.sk-dashed-wrapped {border: 1px dashed gray;margin: 0 0.4em 0.5em 0.4em;box-sizing: border-box;padding-bottom: 0.4em;background-color: white;}#sk-container-id-8 div.sk-label label {font-family: monospace;font-weight: bold;display: inline-block;line-height: 1.2em;}#sk-container-id-8 div.sk-label-container {text-align: center;}#sk-container-id-8 div.sk-container {/* jupyter's `normalize.less` sets `[hidden] { display: none; }` but bootstrap.min.css set `[hidden] { display: none !important; }` so we also need the `!important` here to be able to override the default hidden behavior on the sphinx rendered scikit-learn.org. See: https://github.com/scikit-learn/scikit-learn/issues/21755 */display: inline-block !important;position: relative;}#sk-container-id-8 div.sk-text-repr-fallback {display: none;}</style><div id=\"sk-container-id-8\" class=\"sk-top-container\"><div class=\"sk-text-repr-fallback\"><pre>LogisticRegression(max_iter=300)</pre><b>In a Jupyter environment, please rerun this cell to show the HTML representation or trust the notebook. <br />On GitHub, the HTML representation is unable to render, please try loading this page with nbviewer.org.</b></div><div class=\"sk-container\" hidden><div class=\"sk-item\"><div class=\"sk-estimator sk-toggleable\"><input class=\"sk-toggleable__control sk-hidden--visually\" id=\"sk-estimator-id-8\" type=\"checkbox\" checked><label for=\"sk-estimator-id-8\" class=\"sk-toggleable__label sk-toggleable__label-arrow\">LogisticRegression</label><div class=\"sk-toggleable__content\"><pre>LogisticRegression(max_iter=300)</pre></div></div></div></div></div>"
      ],
      "text/plain": [
       "LogisticRegression(max_iter=300)"
      ]
     },
     "execution_count": 142,
     "metadata": {},
     "output_type": "execute_result"
    }
   ],
   "source": [
    "#a)\n",
    "model = LogisticRegression(max_iter=300)\n",
    "model.fit(x_train, y_train)\n"
   ]
  },
  {
   "cell_type": "code",
   "execution_count": 143,
   "metadata": {
    "collapsed": true
   },
   "outputs": [
    {
     "name": "stdout",
     "output_type": "stream",
     "text": [
      "['rich' 'pleasantly' 'worry' 'minor' 'thankful' 'penny' 'skeptical' 'con'\n",
      " 'lifesaver' 'saves']\n",
      "['dissapointed' 'unusable' 'disappointing' 'disappointed' 'useless'\n",
      " 'poorly' 'worthless' 'unacceptable' 'worst' 'nope']\n"
     ]
    }
   ],
   "source": [
    "#b)\n",
    "coefs = model.coef_.flatten()\n",
    "indices_of_most_positive = np.argpartition(coefs, -10)[-10:]\n",
    "indices_of_most_negative = np.argpartition(coefs, 10)[:10]\n",
    "\n",
    "words = vectorizer.get_feature_names_out()\n",
    "\n",
    "most_positive = words[indices_of_most_positive]\n",
    "most_negative = words[indices_of_most_negative]\n",
    "\n",
    "print(most_positive)\n",
    "print(most_negative)\n",
    "\n",
    "\n",
    "\n",
    "#hint: model.coef_, vectorizer.get_feature_names()"
   ]
  },
  {
   "cell_type": "markdown",
   "metadata": {},
   "source": [
    "## Exercise 4 \n",
    "a) Predict the sentiment of test data reviews.   \n",
    "b) Predict the sentiment of test data reviews in terms of probability.   \n",
    "c) Find five most positive and most negative reviews.   \n",
    "d) Calculate the accuracy of predictions."
   ]
  },
  {
   "cell_type": "code",
   "execution_count": 144,
   "metadata": {
    "collapsed": true
   },
   "outputs": [
    {
     "data": {
      "text/plain": [
       "array([ 1, -1, -1, ...,  1,  1,  1])"
      ]
     },
     "execution_count": 144,
     "metadata": {},
     "output_type": "execute_result"
    }
   ],
   "source": [
    "#a)\n",
    "model.predict(x_test)"
   ]
  },
  {
   "cell_type": "code",
   "execution_count": 145,
   "metadata": {
    "collapsed": true
   },
   "outputs": [
    {
     "data": {
      "text/plain": [
       "array([[4.81240333e-01, 5.18759667e-01],\n",
       "       [7.85151735e-01, 2.14848265e-01],\n",
       "       [9.79541684e-01, 2.04583161e-02],\n",
       "       ...,\n",
       "       [9.89536574e-06, 9.99990105e-01],\n",
       "       [1.33219364e-04, 9.99866781e-01],\n",
       "       [7.30126914e-02, 9.26987309e-01]])"
      ]
     },
     "execution_count": 145,
     "metadata": {},
     "output_type": "execute_result"
    }
   ],
   "source": [
    "#b)\n",
    "probability = model.predict_proba(x_test)\n",
    "probability\n",
    "#hint: model.predict_proba()"
   ]
  },
  {
   "cell_type": "code",
   "execution_count": 146,
   "metadata": {
    "collapsed": true
   },
   "outputs": [
    {
     "name": "stdout",
     "output_type": "stream",
     "text": [
      ">>>most positive reviews\n",
      "['BOTTOM LINE I would buy this again in a heartbeat and I would buy it over any other travel crib or pack n play I have been so impressed with this crib 100 worth every penny It has been used every night for seven months and shows no signs of wearMy husband and I bought this crib as our only crib for our first baby We were nervous because it was such a large purchase for us This is the most expensive thing we have purchased besides our car After extensive research we decided on the babybjorn because my husband is in graduate school and we will be doing a lot of moving in the next few years She has slept in it since she was three days old and she is now seven months and the crib looks and functions as if it was newOur BabyBjorn has been in six states and five countries We have checked it at airports all over Europe and the US We have checked it in its carrying case alone and it has not been damaged in anyway It has been on trains buses metros trams in taxis cars and planes Even the bag has yet to show signs of wearingThe crib unzips from the metal bars so it can be washed as well This is really nice if you travel a lot We moved into our apartment in Italy and found out that there were bed bugs in it We were worried we would have to replace our loved crib but it can be washed and the matress is cased in plastic so it is safe The plastic liner can unzip and both the matress and the plastic can be washed If you are planning on doing any extensive traveling you will run into bed bugs and this crib is a mustThe sheets and matress pad made by babybjorn are expensive however I found them for half the price at sheetworldcom And we were able to get hot pink cotton ones and hot pink flannel onesThe crib is so easy to put together I personally hate setting things up but it is one motion  just lifting it out of the case It also comes readytogo so no need to put together It even is easy to put back into its case Amazingly seven months plus six countries later it still opens up perfectly everytimeI love that I can see into it so easily through the mesh Being a first time mom I was super nervous when she slept but I could see her without lifting my head off the pillow Also our little one moves a lot while she sleeps and sometimes ends up pressed against the side Luckily the babybjorn is light fabric so she can breath while her face is planted into the side Another great thing is that all the bars are outside of the crib so there is nothing hard for her little head to hitDurning the night she sleeps in it and during the day she plays in it Unlike pack n plays the bottom will not sag because the matress is supported by the floorAlso it is small enough to fit in tight hotel rooms and even on some trains but large enough to provide comfort and space for even the most wiggley babies The carrying case is also slim enough for us to pack it on the floor of our Saturn in front of her car seat It even was smashed in our trunk from Washington DC to Idaho and worked just fine when we pulled it outTwo things about it to keep in mind The crib sits on the floor so it is cooler at the lower elevation than a traditonal crib Also I had a csection and it was difficult for the first week to bend over and lift her out of it However the crib has been built well enough that I do lean on it to grab her and it has not had any issuesIt is hands down the best purchase we made Although it is a bit pricey it is worth every penny I would pay twice what it cost for it I have told friends to buy it I will buy another all over again'\n",
      " 'We love this highchair  We have a 4 year old and an 8 month old  This is our 3rd highchairFeatures we loveFit  This chair FITS my infant daughter  She fits in this chair without the extra insert way better than in the basic Evenflo chair we had before  I only use the 3point harness and let her shoulders be free and she sits at a correct level so her arms can move around well and she can lean and reach for things on the tray  Many other chairs have a real problem with fit  So I do believe that with the insert this is the perfect chair to start your 4 month infant in for feeding  The insert will make them more secure kind of like their carseatTray Insert  With our other chairs the tray clicks down into the larger tray all the way aroundyou can remove it for cleaning  Fine  But I always hated that food got into the crack nearest to the baby so I couldnt just wipe it downI HAD to remove it to get out all the gunk  The tray on this is so smartthe edge closest to the baby wraps all the way down and clicks under the lip of the large trayone smooth surface where all the food is landing  I love itUpholstry  I love this leather look  It cleans easy and is really cushy  The part that is designed to match other Graco gear is just an insert for small infants  The rest of it is just a tan color and it matches anythingSturdiness  I cant tell you how much safer I feel my daughter is in thisit is solid  I never felt terribly comfortable reclining her in other seats but this one is made well and I am not worriedVersitality  This is one of the best parts  We bought this and now we are using both the highchair for our 8 month old daughter and the booster for our 4 year old son  Here is how it works  Basically it is like a high chair with 2 bases  Both bases are toddler chairs themselves  I will call them the rolling base and the chair base  So you have a toddler seat attached to the rolling base and another toddler seat that you can attach with straps to a chair the chair base  Then you can take the separate highchair part and click it into the rolling base or to the chair base whichever you like  Then the unused base becomes a toddler chair  One might think that you could sit 3 children2 toddlers in the bases and then an infant in the highchair part but the highchair really needs to click into a base because it is not designed to be on its own  The highchair with the chair base would be great to take when traveling especially if you just use the snack tray and leave the large tray at home  And the toddler seat that is attached to the highchair frame is truly good for getting under tables with a lip because of its low sides unlike many toddler seats that come up too far and you cant scoot them under the tableWorth notingI see no problem with the snack tray  At 8 months my daughter fits fine and it is half as big as the traya great size snack tray  And it has its own separate cup holder  You really dont need the snack tray before they start feeding themselves so I cant see it being a problem at the age you would need itAdjustable foot rest  I just love this and it just makes it better for the baby to have more support  My 8 month old cant touch the highest setting yet but probably within 6 months or soToddler seat  I thought it was extra great that they include an adjustable backthere are 3 slots to put slide a back into the chairthat way you can match the length of the chair to your childs legs  My 4 year old is big enough that we removed the back and let him sit all the way back in order that is knees bend in the right place  But I can see where this would be a great feature for perfect fit through the yearsThis really is a great chair for every possible use infant toddler preschooler traveling having an extra seat if you have other kids over to your house  The system will seat 2 children at once 1 baby with tray and 1 older child OR 2 older childrenWe love thisworth every penny'\n",
      " 'We bought this stroller after selling our beloved BOB rev on craigslist We used the BOB for 9 months for my son but it just wasnt practical I dont jogrun it didnt have a big basket and was very bulky to take into stores quickly However I did love how it unfolded easily but it was heavy to fold up and lift into my small trunk myself Overall I didnt realize what Id need in a stroller until AFTER I had my son Live  learn We did love how easily the BOB would go over pretty much anything Nevertheless we sold it and after extensive research on strollers we decided it was between the uppababy brand because of the large baskets OR the city mini GT because of its easy fold up design After looking over both strollers I decided on the uppababy cruz because of a few main factors It SITS UP I cant tell you how much my son hates being reclined when he is just riding in the stroller and not napping The BOB and the City Mini had a slight recline and he always tried sitting more upright The uppababy sits up like your sitting in a chair He loves it It also reclines nearly flat The foot rest can be positioned upwards so that its as if he is sitting on the floor because he is so upright and his feet are out in front of him Also the LARGE basket was a HUGE plus I cant tell you how great evvvvverything fits in there Its perfect and soooo easily accessable The city mini gt did NOT have a big enough basket for me and there for was not the right choice for me despite the very easy fold up The true test for us was this past weekend when we took it to Maine on a camping trip YES it is no BOB However I thought it was just fine over the rough bumps of a campground Bumpy ride Yes But nothing my 10 month old couldnt handle and honestly It wasnt that bad We took it to old orchard beach and as I suspected it didnt roll over the sand like my good old BOB did But it rolls really nicely on pavement and I just carried my son over to the beach and I figure he will be 1 soon enough and walking so I wont need the stroller on the beach anyways I also love the reversable seat that comes in handy because my son is going through some sort of attachment to mommy thing so he likes being able to face me from time to time I also love that the Cruz is a less expencive option to the Vista The vista is much much heavier and a little bigger And since we didnt need the extras that the Vista comes with this was the better option for us Also I called Uppababy and asked about a belly bar and toddler board for the cruz and they told me that BOTH would be available The belly bar will be out this summer and the board is in producton huge plus So for us this stroller was a hit but as anything goes you MUST research what YOU need in a stroller and figure out whats important to you Some people dont care about a big basket and in that case id for sure go with the City mini gtUPDATE1713We are in LOVE with this stroller still It fits great in the trunk of my saturn ion and how I fold it is I take the seat off first takes 1 second and then fold the frame I found it fits and folds better that way plus some times my son likes to sit forward and sometimes backwards still so I just set up the frame and then throw the seat on top depending on which way i think he wants to sit The basket is just my fave feature I cant tell you how happy I have been with the uppababby My son is 16 months old and loves sitting in his uppababy well worth it still'\n",
      " 'Im about to be a firsttime mom so I spent weeks and weeks researching different travel systems reading reviews etc  The big selling point for this one was the onehanded steering and folding  My boyfriend suffered an injury that rendered his left arm almost useless so the onehanded operation is a big deal for us  And this product far exceeded our expectations  Assembly is a breeze  It took me fifteen minutes while 34 weeks pregnant to put it together  I love how sturdy it is  And it looks amazingIve come to the conclusion that this system was designed specifically for parents with a disability similar to my boyfriends  Ive seen other travel systems in person and was actually very concerned about how well he would be able to operate it on his own  Most travel systems have multiple latches and require both hands to operate  But my worries have been put to rest  Everything can be done with one hand It even has a handle in the center of the console specifically for onehanded steering  I had my boyfriend test it out to make sure he could fold it unfold it and remove the car seat with one hand  Its so much easier than we anticipated  The only thing that absolutely requires two hands is adjusting the position of the handle on the car seat  That I can understand  Its a safety issue and leaving the handle up doesnt interfere with adjusting the umbrellas or anything so its not a big deal  Another reviewer said she calls this product the Cadillac and I can totally see why  It just looks gorgeous  I would definitely recommend this to any new parent but its an absolute MUST for parents with disabilities  I have friends who have different brands of strollers and you just cant beat the ease of operation with this oneIt does have a couple of cons although none of them are a big enough deal to affect the 5star rating for me  First of all it is large and takes up a lot of space even when folded  It is also a bit heavy  However I have a PT Cruiser and it fits in the back of my car just fine  Even as heavy as it is I can still lift it Im now 36 weeks pregnant on my own to put it in and take it out of the car  My boyfriend can also lift it with one hand and although its a bit harder to maneuver the heavy stroller into the car with one hand it can be done without too much headache  And Id prefer something heavier and sturdier to something lighter and flimsier anyway  Also Ive noticed other reviewers talk about how it doesnt stand on its own when folded  This is true but a standalone feature wasnt on my list of priorities when buying a stroller so I really couldnt care less whether it can stand on its own or whether we have to lay it down when folded  Again an absolute MUST if you or your partner have a disability  But its a gorgeous sturdy simpletouse travel system for any parent  This is by far the best buy for the moneyUPDATEMy daughter is now almost two and a half years old and this product is still as amazing as it was when I took it out of the box  Shes now outgrown the baby carrier and sits in the stroller like a big girl  Even now I occasionally get comments on how nice it is  A woman recently asked me if it was new and was shocked when I told her Id purchased it more than two years ago  This is an excellent buy and will last for years and years'\n",
      " 'I did a TON of research before I purchased this stroller and I still watch stroller reviews all the time Babygizmocom has really great reviews on so many strollers And Zooper Waltz 2011 is THE BEST of all Ive seen so farLet me tell you first though that it is not an allterrain or jogging stroller and it does not have an ability to be used for more than one child So if youre looking for these things this is not it But if youre looking for a single stroller for city walking and a little bit of park and dirt etc and you dont want a monster stroller size and weight wise this is the best stroller of that kindOne of my favorite things about this stroller is that it comes with SO many accessories that are sold separately on most other strollers especially those expensive ones With this one you pay 300 I paid 250 for it on eBay and get the following accessories all included A UV netIt easily snaps onto the canopy to completely shade the front and there are two elastic loops at the bottom to attach it securely to the stroller It comes in a zippered pouch and whats genius about it is that the pouch itself is actually part of the net so you dont have to worry about ever losing the pouch A foot muff for cold weatherIt also easily snaps onto the seat This is something you dont see included with a stroller very often A removable cup holderIt can actually hold a travel mug Starbucks cup etc and not just a water bottle A snack tray for the childLarge enough to be actually practical Has a large deep cup holder that securely holds any sippy cup a bowllike section to put some snacks and two compartments in the middle A baby bumper barYou can either completely remove it or just swing it away to make it easier to get your child in and out of the stroller Infant car seat adapter strapsYou attach it to the Drings on the sides of the seat then it goes over your infant car seat and you secure it with a buckle and by tightening the strap Its not one of those big bulky frame adapters that some strollers have for infant car seat To me thats just one more thing to find a place for when youre not using it as a travel system This strap system feels very very secure and its just much more travel friendly A rain coverThe 2011 model does not come with a rain cover but thats because the improved canopy which is gigantic and fullcoverage is made of complete waterproof fabric and acts as a rain cover I love this because I dont have to worry about forgetting the rain cover at home or fiddling with it trying to put it on when it starts raining unexpectedly on the goSo only 300 with all these amazing practical accessories is absolutely the best price for its valueNow on to the stroller features Thats right I havent even started on the main stroller yet LightweightIts just under 19lbs Im petite and dont have a lot of arm muscle but I dont have any problem getting this in and out of my trunk or carrying it up a couple flights of stairs every once in a while High weight capacity of 55lbsNot that I would use it for a 55lbs child regularly but it means its that sturdy Easy to assembleIt comes in a big box and all you have to do is snap on the wheels and the canopy Super easy Took us 5 minutes However I do want to note that we attached the canopy wrong at first and because of that it ripped at the zipper when we tried to recline the seat There are four snaps on the bottom of the canopy one set at the very front on each side and another in the middle The front set snaps onto the sides of the seat and the middle ones onto the back of the seat Our mistake was attaching the front ones to the seat back But Zooper had a super nice warranty service where they sent us a brand new canopy for no charge even though it was our fault Newborn friendlyIt has a very flat recline position and the leg rest goes all the way up and securely zips on to the sides of the seat creating a bassinetlike environment The leg rest also lays flat for babies or goes down for older kids It also has an infant guard at the top of the seat that would prevent your infant from ever sliding out of the seat when the seat is fully reclined and the back of the canopy is removed But this piece can be tucked away with an attached velcro once your child gets taller It also comes with an infant head rest that is attached to the shoulder straps but this is also removable Onehanded open and fold and stands on its own when foldedNow theres a trick to doing it onehanded Its supposed to be done with two hands and its super easy to do but you can also do it onehanded To open it you unlock the lock on the side push the big button on the handle bar and instead of grabbing the small handle on the side like you would when youre opening it with two hands you just push down on the top bar of the basket with your foot To fold it first you retract the canopy and put the seat up to the upright position lock all the wheels and then push the big button on the handlebar lift up on the small handle on the side with your knee just a little nudge and then you push the whole stroller down towards the ground with the handlebar That allows the frame to slide into a folded position Then I usually have to push down on the front of the frame with my foot to engage the lock It might sound complicated but once you get the hang of it you can do it in seconds My babys been real clingy and so its been nice being able  to open and fold the stroller while holding him Fullcoverage canopy with a large viewing windowThis canopy is probably my favorite feature of this stroller First of all its huge and it folds all the way down to the bumper bar to completely shade and cover your child It has a large viewing window with a flap to cover it when not in use The flap has no noisy velcro on it so you wont have to worry about waking up your baby When the seat is fully reclined but you still want fullcoverage on your sleeping baby you can actually unzip whole another fullsized panel to do that Also theres another zipper on the canopy that you can unzip and reveal a mesh underneath the back of the canopy This enables a good airflow through the back into your child The whole back of the canopy and the mesh underneath it are both completely removable as well Great storageThe basket is huge and can fit my diaper bag another big bag with beach towels and blankets jackets water bottles and lunch fairly easily So its perfect for picnics and shopping It has a hard bottom so that you will never be dragging your stuff on the ground An amazing feature of this basket is that they put a vertical zipper on each side of the basket towards the front of the stroller that goes all the way to the bottom so you will have a complete access to the content even when the seat is fully reclined I love it I also like that the side fabric of the basket is kind of seethrough so you can see where everything isAlso there is a large pocket on the back of the canopy where I can fit my clutchsize purse and another pocket on top of it with a lid which is perfect for keeping your keys cellphones etc Theres another small pocket on the back of the seat where the warnings are supposed to go but thats where I keep my UV net and car seat adapters Onehanded bar recline that has 4 different positionsI can even adjust the recline up and down while walking with this stroller Seat fabric machinewashableThe seat fabric comes off to be machinewashed Canopy is spot clean only Excellent maneuverabilityIt pushes really well and as long as Im on a paved street I can totally push it and even turn it onehanded with the baby and tons of stuff in the basket It does pretty good on grass dirt and gravel but I usually need two hands to turn on rough terrain Carrying handle on the side and the ability to wheel behind when its foldedCarrying handle is definitely nice when I lift it up to put it in my trunk and if you have the front wheels locked you can wheel it behind you like a luggage Front swivel wheels that can also be locked straight for rougher terrain and onetouch rear brakeThis is pretty standard for most strollers but its definitely a nice feature All four wheels have suspension systemIve taken it on grass and some dirt roads and it pushed very well Padded five point harness that are height adjustableThis is pretty standard too and you do have to rethread the shoulder straps to adjust the height but you wont be adjusting them all the time so this is not an issue The paddings on the shoulder straps are easily removable The buckle is easy to do no puzzle pieces You can also detach the shoulder straps and use it as a 3 point harness once your child is old enoughAs you can tell I just cannot say enough good things about this stroller Ive been using it for almost 7 months since my son was a newborn and I absolutely love itZooper also has Bolero and Twist and the differences areBolero is 400 and comes with a bassinet kit to make the seat a real bassinet Its a tad bigger and heavier but has a more compact standing fold than WaltzTwist is 200 and has an umbrella fold It can not stand on its own when folded but everything else is the same as Waltz']\n",
      ">>>most negative reviews\n",
      "['I had to return this stroller for three reasons1 Straps are too small and my 15 month old who is average size2 The pictured armrest is not included3 Customer service phone numbers are disconnected I finally reached someone and our conversation was ended abruptly with a strange BEEEEP when I was in midsentence The person was nice enough to email photos of the straps since they assumed customers are idiots and I did not have them adjusted to maximum length before I made the callAllow me to go into detail about these straps First of all they are too small to fit any toddler The design of the seat and straps are not intuitive and it seems like the straps were an afterthought When fully expanded the straps just barely fit my daughter and I took her out of the stroller immediately because she was visibly uncomfortable I adjusted the shoulder height strap to the highest passage which is not easy to do and expanded the straps fully The clasp which attaches to the seat is positioned too far back and if moved forward would provide more room The measurements are completely off and it seems like they did not have any reasonable testing to support a 55 pound limit on this stroller I was very disappointed that I could not use this stroller after I spent the money and now all this time unpacking it and putting it together Now Ive spent even more time disassembling repacking sealing and requesting a return through Amazon What funBesides the straps issue the stroller is well made The seat fabric is quality The metal frame seems to be sturdy and the wheels although plastic are ready to ride I didnt have the opportunity to push my daughter but it glides smoothly with no weight in the seat The cupholder is nice but attaches to the frame of the stroller in an awkward position Another afterthought in their 34design34 process When I was putting the stroller together the little Zooper sticky logo came off the side of the frame which covered a screw hole It was just barely hanging on there with some sort of lame adhesive I tried to stick it back on but I expect it will fall off again soonSo I called the toll free customer service phone numbers on all of the printed materials and packing sheets which were in the box I reached a call center and the woman who answered had a heavy accent and no idea what I was talking about when I asked for Zooper customer service One number was out of service I tried the third number and the person who answered seems surprised at my phone call He was helpful but I dont think he really understood the seat design as I was explaining how the straps were already extended Its difficult to communicate this problem over the phone He mentioned that 34someone else34 had received a stroller with short straps Well why are they still selling this defective product He took my information and said they would be mailing a set of longer straps for the stroller We were disconnected suddenly I would hate to assume he hung up on me I was pleasant and accommodating to his request for information so he could help me I stated on the phone that I was considering returning the stroller because I cant use it and I was unhappy with the product Thats when the call ended I didnt have a chance to mention the armrest while on the phone but I responded to the email with a picture of this Amazon listing and said the armrest was not included That was 11 days ago and I have still not received the longer straps I have a feeling they arent coming and now Im just angry about the entire situation This is why I order on Amazon if I had purchased directly from this company I have a feeling Id never get a refund eitherThats about the size of it Im returning the stroller this week and spending a few more dollars to get the Joovy We needed a stroller three weeks ago this one is useless and Im tired of looking at it I paid 16589 for a hassle I still cant believe it cost 1789 to ship this piece of garbage but thats what it cost I expect a FULL refund'\n",
      " 'My disappointment with this product prompted me to write to the manufacturer  Below is my correspondenceIm writing you this email to express my deep dissatisfaction with a recently purchased Graco productMy wife and I are new parents and as expected the Graco brand was quite heavily represented on many items that expectant parents needAmong other things we purchased a Graco car seat extra seat base and a Pack and PlayAt this point our daughter is only a week old the car seat has seen limited use but the Pack and Play has already been put through some paces and it is this product that I am writing to you aboutThe model we purchased was the Pack n Play Dempsey  The main reasons we chose this model were the designcolor and the fact that it had a changing table  The additional storage seemed to be a nice feature thought not something that we will probably use at this point and as it disappears when not used as a bassinet it has limited usefulnessI have quite a few reasons to be dissatisfied with this product but by far the biggest disappointment is the changing tableThe design flaws with the changing table are glaring  It is supported only on one side leaving the other side to hang across the bassinetplayard with nothing to brace it  Our daughter who is just barely 8 pounds places enough weight on the table that it dips down on the unbraced side causing her to roll over on the side  Even if placing her as far as possible over to the braced side even a few pounds of weight over the center of the table will cause it to slant and thus cause a baby to roll over to their side  As you can imagine trying to change a baby on a device like this is akin to placing them on a slide or ramp  it is not conducive  Furthermore I dont believe it to be safe as newborns do not have full control or strength in their necks and this table causes their bodies to slant underneath them  causing them to contort in uncomfortable and possibly dangerous waysYour website states that this changing table is to be used by babies up to 25 lbs  I cant possibly imagine how a child that large wouldnt cause the table to dip at even more dangerous angles  Reviewers at Babies R Us which unfortunately I didnt consult until after this product was purchased and assembled state that children as small as 5 lbs experience these same issues  In fact out of 43 reviews at the Babies R Us site almost every other one speaks of issues that people have found with this table  The overall review as of this writing is 33 out of 5 stars which equates to 67  I wouldnt expect my daughter to bring home grades like that once she enters school  and you should find such ratings for your products absolutely unacceptableWhat is even more disappointing is that this could have easily been averted had the table been given a similar design on both sides  A couple inches of plastic leg support on the floating side of the table could have braced it against the frame and completely avoided this issue  How could something like this even have made it past your design and quality control divisionsWhile the changing table situation is enough to sour me on this product I must also mention briefly some other problems with the productThe small sound machine that comes with this model plays at such a low volume that you can legitimately not hear here it in all but the quietest room  Standing 3 feet from the crib the sound couldnt be heard over a lower than normal conversational tone  While I understand there could be safety issues from glaring sounds this device errs way to far on the side of caution to be unusable  We have plenty of other noise making baby toys which dont suffer from these issues  If the baby is quiet enough to be able to hear these sounds they are most likely already asleep in a quiet room and dont need to be soothedI was also very surprised that the mobile was not electric  While your site does not specifically state the Babies R Us site which I have no doubt Graco writes andor approves the copy states as a feature Electronics module and mobile  This misleading combination of the two features infers that the mobile is indeed electronic and therefore would move of its own power  Not only does the mobile not move on its own its design is such that spinning it by hand causes it to move around maybe on 34 revolutions 23 seconds before the friction of its design causes it to stop  It is also placed at such a level that it would never be reachable at all by a child to play with or spin on its own perhaps from a safety issue that is best  So instead of a functional mobile what the child gets is the opportunity to stare at the feet of a few stationary turtlesWhile not incredible difficult to assemble the included instructions are poorly designed at best and misleading of incorrect at worst  I probably could have assembled the device in shorter order without referring to the instructions  For example why instruct the installation of the mattress in the bottom of the unit and then go back to instruct that it must be removed in order to configure the bassinet  Wont most people be assembling and using this as a bassinet first until their child grows into the playardI also find the advertising of these products as portable pack and plays a little absurd  While you can certainly collapse them to a smaller size the ability to fit them back into their original carriers is not an easy affair  Forget about trying to disassemble the accessories  snapping apart the mobile or attempting to remove the metal frame from the changing table fabric would certainly cause damage to these parts after several times  Additionally while my wife certainly is getting better muscle tone carting around a new child your prevalent advertisements with the mother toting the collapsed playard in one hand as if it were an empty picnic basket is patently absurdUnfortunately these last few complaints about the model seem to be inherent in most all of your Pack n Play models and as such I dont believe that returning this Dempsey model for another Graco playard would really make much of a difference  I suppose I could trade it for a cheaper model with no storage or changing table but the time and effort involved isnt worth the 6075 that would be saved  To be honest I am surprised based on the quality of this product that Graco has established such a reputation and large market share in the playard departmentI certainly wont be recommending these products in the future  Additionally I will be placing this review on both Amazon and the Babies R Us website  I invite you to answer these concerns at least in those forums should you choose not to respond to them hereThank you for your time but no thank you for the productSincerelyA Disappointed Customer'\n",
      " 'I am so incredibly disappointed with the stroller I just dont even know where to begin  First of all I have four children and have been through many strollers  This stroller hands down is the worst stroller I have ever owned  I really wanted a double stroller that was somewhat compact but that would also accommodate an infant car seat  The Aria twin claims to be able to do thisCONS So first a foremost I would NEVER place an infant car seat on this stroller  Even with a Peg Perego infant car seat it is really unsteady while on the stroller  The tray the car seat rests on is super flimsy as in worse than a super cheap 40 dollar stroller In general the entire stroller is made of really flimsy cheapo plastic With two small children in it one that weights 22 pounds and the other only 15 pounds the stroller is really difficult to steer  When attempting to turn the entire plastic frame twists and feels like it is going to brake  It feels like trying to turn with two 100 pound kids overloading the stroller It feels like a really cheapo stroller From day one the storage basket under the kids has dragged on the ground  Yes it is installed correctly  I even called Peg Perego but they said there was nothing they could do  So now it has a giant hole in it and cannot be use Since about the second week we owned the stroller the tires on the wheels of the stroller keep randomly popping off  I will be walking in the mall and hear a thumpthumpthump sound only to see a tire half hanging on tot he wheel The cup holder is worthless and will not fit anything at all except maybe a small water bottle The sun shades are really really short I had to buy extensionsPRO It does fold very compactly as in much smaller than most single strollersI really wanted to love this stroller  I kept making excuses for it but finally just gave up  At this point my husband refuses to use it  We really have been through many strollers and none are perfect  However if you are looking for a somewhat compact but nice double stroller I would recommend looking at the Baby Jogger City Mini which is what I ended up buying to replace this stroller or maybe the Combi double stroller which our friends have and seem to really enjoy  I would not waste money on the Aria twin  I spent over 300 dollars on this stroller and cant even attempt to resell it because after less than a year of use it is basically trash which is what it wound up being  I dont know about other Peg Perego products but after my experience with this stroller I can honestly say Im not going to gamble my money on the brand again'\n",
      " 'I thought it sounded great to have different tips for different body areas  But its impossible to keep my son still enough to get a reading with the underarm one and Ive gotten more Er 1 readings rectally than I have gotten temps  I know hes a squirmy kid but the tip stays in each time and the thermometer still doesnt get a reading  That makes me wonder about the accuracy of the ones it does giveEdited on 12711 to add  Today it took me 3 hours to figure out that the extremely annoying high pitched whine coming from some object in my sons room was in fact coming from this thermometer It nearly drove me insane first It had to be from the battery being dead but this was not mentioned in the instruction book I cannot stress to you enough just how headsplittinglyannoying this was I hope that whoever designed this has to listen to this sound for the rest of their natural life and that they live to be 150 I had to check everything in the general area of the sound because there wasnt any blinking light on the thermometer to call my attention to it specifically I unplugged the clock  nope not that I checked the phone line  nope not that I looked for a bullet hole from a hunter  nope not that I moved the antenna for our satellite radio  nope not that I turned off every single electronic device in the room  nope wasnt those I was finally removing every object from the room when I discovered that the thermometer was the infernal device for which I was looking The noise stopped when it hit the wall I am well known to throw like a girl but I threw this  device hard enough to pop off the battery cover no I didnt have a COIN in the bedroom of my toddler with which to turn it You have absolutely no idea how much consternation this caused in our house this morning My head is still splitting from the noise this thermometer made Our dogs still wont go upstairs I will NEVER again buy something from Safety 1st '\n",
      " 'My husband and I are VERY disappointed and shocked by how awful this bassinet is We ordered it because we liked the color and it looked nice and simple and it was inexpensive Well we got what we paid for1 It comes in 3 parts so you would think assembly would be a piece of cake EVERYTHING about assembling this is awful There are metal wires on the back that you have to force into these clips which is almost impossible because the wire is way too long I 10 months pregnant had to push the opposite side of the bassinet as hard as i could so my husband could try to get the wire into the clips that it comes with This took us a very long time2 Next we tried to pull the legs apart which were wedged together by all the screws and things attached3 THE CANOPY You would think this would be a sinch right The canopy wires or wine as they call them in the instructions was backwards The canonpy is so flimsy that it hardly is worthwhile Once we got the canopy wire turned around correctly we pushed as hard as possible to insert the canopy into the base and twice in about an hour the canopy already popped out which clearly poses a safety issue if there were a baby inside4 The wheels were very hard to insert to the point that they clicked in5 The instructions were obviously written by a nonEnglish speaking person Not only is the grammar horrific there are spelling errors and the instructions tell you NOTHING What does Pull forward to open pull afterward to close mean This is all that is given on how to insert the canopy Which again you would think would be self explanatory But when you are trying for 20 minutes to get it to insert and the wire is backwards you look for some sort of instruction The only instruction they do give is the obvious Again open canopy Ok thank you thats great HOW DO YOU INSERT IT PROPERLY6 Finally the color is very weird I wouldnt have even mentioned this if it wasnt so awful in every other way I thought it was going to be green but like a previous review said its blue and yellow plaid with green ruffles The sheet that comes with it is a very rough material The basket beneath seems impossible to get into as there is just a very small opening on the sides All of this I could have lived withI am so frustrated with this because we are having our baby in 3 days and the bassinet just arrived I was excited assuming we would have the bassinet in time for the baby Now it appears we are going to have to return it because it is so awfulIf we can figure out how to get this thing apart and no wonder it is out of stock everywhere no one wants to sell junk like this I was going to keep it and make do with it until the canopy continued to pop out I cant put my baby in something this unsafe And now its to the point where I am so frustrated with how poorly made this is that even though it was only 60 its the principle that I want something that will last through future children I have no idea where we are going to put our baby for the first week or so during the most exhausting period of motherhood Thanks a lot Dream on Me']\n"
     ]
    }
   ],
   "source": [
    "#c) \n",
    "\n",
    "sorted_negatives_indexes = [index for index, value in sorted(enumerate(probability[:, 0]), key=lambda x: x[1], reverse=True)[:5]]\n",
    "sorted_positives_indexes = [index for index, value in sorted(enumerate(probability[:, 1]), key=lambda x: x[1], reverse=True)[:5]]\n",
    "\n",
    "# print(zipped_positives)\n",
    "print(\">>>most positive reviews\")\n",
    "print(x_test_raw[sorted_positives_indexes])\n",
    "print(\">>>most negative reviews\")\n",
    "print(x_test_raw[sorted_negatives_indexes])"
   ]
  },
  {
   "cell_type": "code",
   "execution_count": 147,
   "metadata": {
    "collapsed": true
   },
   "outputs": [
    {
     "data": {
      "text/plain": [
       "0.9327456448082516"
      ]
     },
     "execution_count": 147,
     "metadata": {},
     "output_type": "execute_result"
    }
   ],
   "source": [
    "#d) \n",
    "model.score(x_test, y_test)\n"
   ]
  },
  {
   "cell_type": "markdown",
   "metadata": {},
   "source": [
    "## Exercise 5\n",
    "In this exercise we will limit the dictionary of CountVectorizer to the set of significant words, defined below.\n",
    "\n",
    "\n",
    "a) Redo exercises 2-5 using limited dictionary.   \n",
    "b) Check the impact of all the words from the dictionary.   \n",
    "c) Compare accuracy of predictions and the time of evaluation."
   ]
  },
  {
   "cell_type": "code",
   "execution_count": 148,
   "metadata": {
    "collapsed": true
   },
   "outputs": [],
   "source": [
    "significant_words = ['love','great','easy','old','little','perfect','loves','well','able','car','broke','less','even','waste','disappointed','work','product','money','would','return']"
   ]
  },
  {
   "cell_type": "code",
   "execution_count": 149,
   "metadata": {
    "collapsed": true
   },
   "outputs": [
    {
     "data": {
      "text/plain": [
       "array(['love', 'great', 'easy', 'old', 'little', 'perfect', 'loves',\n",
       "       'well', 'able', 'car', 'broke', 'less', 'even', 'waste',\n",
       "       'disappointed', 'work', 'product', 'money', 'would', 'return'],\n",
       "      dtype=object)"
      ]
     },
     "execution_count": 149,
     "metadata": {},
     "output_type": "execute_result"
    }
   ],
   "source": [
    "#a)\n",
    "vectorizer = CountVectorizer(vocabulary=significant_words)\n",
    "x_train_new = vectorizer.fit_transform(x_train_raw)\n",
    "x_test_new = vectorizer.transform(x_test_raw)\n",
    "vectorizer.get_feature_names_out()"
   ]
  },
  {
   "cell_type": "code",
   "execution_count": 150,
   "metadata": {
    "collapsed": true
   },
   "outputs": [
    {
     "name": "stdout",
     "output_type": "stream",
     "text": [
      ">>>most positive reviews\n",
      "['We bought this stroller after selling our beloved BOB rev on craigslist We used the BOB for 9 months for my son but it just wasnt practical I dont jogrun it didnt have a big basket and was very bulky to take into stores quickly However I did love how it unfolded easily but it was heavy to fold up and lift into my small trunk myself Overall I didnt realize what Id need in a stroller until AFTER I had my son Live  learn We did love how easily the BOB would go over pretty much anything Nevertheless we sold it and after extensive research on strollers we decided it was between the uppababy brand because of the large baskets OR the city mini GT because of its easy fold up design After looking over both strollers I decided on the uppababy cruz because of a few main factors It SITS UP I cant tell you how much my son hates being reclined when he is just riding in the stroller and not napping The BOB and the City Mini had a slight recline and he always tried sitting more upright The uppababy sits up like your sitting in a chair He loves it It also reclines nearly flat The foot rest can be positioned upwards so that its as if he is sitting on the floor because he is so upright and his feet are out in front of him Also the LARGE basket was a HUGE plus I cant tell you how great evvvvverything fits in there Its perfect and soooo easily accessable The city mini gt did NOT have a big enough basket for me and there for was not the right choice for me despite the very easy fold up The true test for us was this past weekend when we took it to Maine on a camping trip YES it is no BOB However I thought it was just fine over the rough bumps of a campground Bumpy ride Yes But nothing my 10 month old couldnt handle and honestly It wasnt that bad We took it to old orchard beach and as I suspected it didnt roll over the sand like my good old BOB did But it rolls really nicely on pavement and I just carried my son over to the beach and I figure he will be 1 soon enough and walking so I wont need the stroller on the beach anyways I also love the reversable seat that comes in handy because my son is going through some sort of attachment to mommy thing so he likes being able to face me from time to time I also love that the Cruz is a less expencive option to the Vista The vista is much much heavier and a little bigger And since we didnt need the extras that the Vista comes with this was the better option for us Also I called Uppababy and asked about a belly bar and toddler board for the cruz and they told me that BOTH would be available The belly bar will be out this summer and the board is in producton huge plus So for us this stroller was a hit but as anything goes you MUST research what YOU need in a stroller and figure out whats important to you Some people dont care about a big basket and in that case id for sure go with the City mini gtUPDATE1713We are in LOVE with this stroller still It fits great in the trunk of my saturn ion and how I fold it is I take the seat off first takes 1 second and then fold the frame I found it fits and folds better that way plus some times my son likes to sit forward and sometimes backwards still so I just set up the frame and then throw the seat on top depending on which way i think he wants to sit The basket is just my fave feature I cant tell you how happy I have been with the uppababby My son is 16 months old and loves sitting in his uppababy well worth it still'\n",
      " 'We love this highchair  We have a 4 year old and an 8 month old  This is our 3rd highchairFeatures we loveFit  This chair FITS my infant daughter  She fits in this chair without the extra insert way better than in the basic Evenflo chair we had before  I only use the 3point harness and let her shoulders be free and she sits at a correct level so her arms can move around well and she can lean and reach for things on the tray  Many other chairs have a real problem with fit  So I do believe that with the insert this is the perfect chair to start your 4 month infant in for feeding  The insert will make them more secure kind of like their carseatTray Insert  With our other chairs the tray clicks down into the larger tray all the way aroundyou can remove it for cleaning  Fine  But I always hated that food got into the crack nearest to the baby so I couldnt just wipe it downI HAD to remove it to get out all the gunk  The tray on this is so smartthe edge closest to the baby wraps all the way down and clicks under the lip of the large trayone smooth surface where all the food is landing  I love itUpholstry  I love this leather look  It cleans easy and is really cushy  The part that is designed to match other Graco gear is just an insert for small infants  The rest of it is just a tan color and it matches anythingSturdiness  I cant tell you how much safer I feel my daughter is in thisit is solid  I never felt terribly comfortable reclining her in other seats but this one is made well and I am not worriedVersitality  This is one of the best parts  We bought this and now we are using both the highchair for our 8 month old daughter and the booster for our 4 year old son  Here is how it works  Basically it is like a high chair with 2 bases  Both bases are toddler chairs themselves  I will call them the rolling base and the chair base  So you have a toddler seat attached to the rolling base and another toddler seat that you can attach with straps to a chair the chair base  Then you can take the separate highchair part and click it into the rolling base or to the chair base whichever you like  Then the unused base becomes a toddler chair  One might think that you could sit 3 children2 toddlers in the bases and then an infant in the highchair part but the highchair really needs to click into a base because it is not designed to be on its own  The highchair with the chair base would be great to take when traveling especially if you just use the snack tray and leave the large tray at home  And the toddler seat that is attached to the highchair frame is truly good for getting under tables with a lip because of its low sides unlike many toddler seats that come up too far and you cant scoot them under the tableWorth notingI see no problem with the snack tray  At 8 months my daughter fits fine and it is half as big as the traya great size snack tray  And it has its own separate cup holder  You really dont need the snack tray before they start feeding themselves so I cant see it being a problem at the age you would need itAdjustable foot rest  I just love this and it just makes it better for the baby to have more support  My 8 month old cant touch the highest setting yet but probably within 6 months or soToddler seat  I thought it was extra great that they include an adjustable backthere are 3 slots to put slide a back into the chairthat way you can match the length of the chair to your childs legs  My 4 year old is big enough that we removed the back and let him sit all the way back in order that is knees bend in the right place  But I can see where this would be a great feature for perfect fit through the yearsThis really is a great chair for every possible use infant toddler preschooler traveling having an extra seat if you have other kids over to your house  The system will seat 2 children at once 1 baby with tray and 1 older child OR 2 older childrenWe love thisworth every penny'\n",
      " 'Weve been using Britax for our boy now 14 months old since his very first moments leaving the hospital  Thankfully cost was not part of our consideration so we went with the best seat we could find  Britax has been good but I wish we had found the Pria  Its a terrific car seatThree best parts so far1  Head control2  Style3  Cup holder4  Soft easy to clean fabricHead control  My biggest concern with other car seats has been his head  When our son sleeps in the car he tilts his head to the side much like my father does now  But with my Dad I dont worry too much because he always seems to wake up after a few minutes and straighten out  But babies dont seem to do that well and Ive been concerned that hes closing off airway or blood to his head  Im not a doctor but it doesnt look good to me  Weve tried rolling his little blanket and stuffing it by his neck like an airplane pillowto no avail  He just tosses it on the seat  This seat has a great system for controlling his headStyle  This seat is attractive  We never used the infant insert but it has an elegant shape to it  The rest of the seat looks good too  I know its not a big concern but I do appreciate great designCup holder  It has a perfectly placed cup holder  We use the Uppababy stroller and it has a great tray where our son has become used to storing his cell phone and other things  Without a cup holder close to his hands in our car everything sits between his knees which makes it all tough to reach  Prias solution is perfect and I dont find myself reaching into the back seat as muchGreat fabric  We love the soft feel of this seat  Its almost like a good pillow  And the fabric has proven quite easy to cleanOverall were thrilled with the seatHope you enjoy yours tooPhilUPDATE Its been over a year now and we remain thrilled with this seat We kept the Britax so wed have an extra seat in the car for James friends to ride together with us Night and day this seat remains the hands down winner for easy buckling in easy cleaning and comfort And the cup holder continues to be the perfect place for drinks snacks or a little toy carWasnt sure this seat would make it this long as the fabric doesnt feel as tough as the Britax But it sure has Whatever they used is as easy to work with now as the day this one arrived And remains easy to clean Were having another one soon so the Britax will be moving to the middle seat to make room for another MaxiCosiAny recommendations on a new color'\n",
      " 'I did tons of research on strollers I knew I wanted a stroller that was light all terrain that could handle jogging and easy maneuverability My husband thought I was nuts for putting so much time into our small investment It came down to a mountain buggy urban and bumbleride indie I am beyond elated I chose the Bumbleride for our 5 month old DD1 easy to out together2 very light3 movespushes like buttah So easy especially when jogging I dont jog in a straight line yet My path has lots of turns so I dont lock the front wheel and it does great I easly jog with 1 arm freeswinging the other has the jogging strap around my wrist and pushing4 big basket I can put much more in it than my Chicco stroller5 canopy  it does exactly what its meant for Its huge and does its job well I live in Louisiana and its quite sunny here The canopy can shade my DD all the way to her toes It almost is like a cocoon  She loves it6 folds well overall Id give it a 7 I dont think youre going to find another stroller with a more compact fold with all the other great features the indie has I own a suburban so its not a room issue for me Its a little tricky at first but easy once you get it7 recline I like that it doesnt have stations Just squeeze the thingie and let as much in or out Easy to useI do wish it had a trayrack for the pusher to put stuff Mine did come with a cup holder you can attach 2 1 on either side The canopy has a zipper pouch that can old keys and a cell phone and more little thingsOverall I love this stroller Its a great smooth ride My DD falls asleep during our walks all the time I know it will grow with her I ordered mine and did not get the opportunity to test drive any I Know I made the right choiceUpdate 5232012My mother just bought a Phil  Teds Classic to keep at her house for when we visit There is no comparison Bumbleride is a much better push and easier to collapsefold Seriously I was shocked at how different the pushes where Our Bumbleride is sooo smooth I can whip it around when going through push doors Ive been doing some walkingrunning intervals and it handles so well After all the research I did I could not be happier with our Bumbleride'\n",
      " 'UPDATE 112013  I went ahead and used a tiny bit of WD40 and also thoroughly cleaned the carseat base and stroller and all the mechanisms started working like new again  No more issues opening or closing the stroller and no more issues getting the seat out of the baseMy child was finally moved out of this seat at 14 months and placed in a transitional carseat rear facing of course and I sold the entire system on craigs list for 150 including two bases  For something I got so much use out of to be able to resell it for that amount of money is unheard of  I even had people offering me more after I had already sold it  So I am now convinced this was a very smart purchase and I sure got a lot of use out this travel system  I am not going to lie I was almost tearful seeing it go to a new home I had become that attached UPDATE 72313  Okay I have been using the heck out of this travel system for 11 months now  I am not as enamored with the system as I was when I first bought it and here is why1 The fabric gets very very very dirty and grungy looking and it hard to take apart and clean2 The stroller no longer easily opens with one handI have to play with it  I am afraid it is due to all the use we use this thing a lot and it has been on a lot of plane rides but the mechanism is frustrating now  I am going to try some WD40 soon to see if that will help3 My kid is 11 months old and still uses it so that is a BONUS  Yeah a break from buying more car seats for a while  He is  big kid too4 The mechanism for getting the car seat out of the base is kind of tricky now too  Most of the times it is fine but some days I dont think I will ever get it to unlatchI still like it but for the price tag I would get a Britax stroller and infant car seat combo in the future if I ever have more childrenI am a 3rd time mom but it has been 5 years since my last baby  I wanted a car seat with a stroller that would be easy to use by myself and would be easy to install in the car  I also wanted a one with a good safety rating  So after reading multiple reviews and consumer reports on many different travel systems I found this one and went ahead and took the plunge site unseen they dont carry Chicco at our local walmart and I live hours away from a store that does  My baby is now 5 weeks old and I have been using the heck out of the system so here is what I think so farCar seat prosThe car seat is EASY take in and out of the base  I had a Graco Snuggleride with my last one and I thought that was easy but the Chicco blows it away  It was also super easy to install in my car and in my SUV  The clips to attach to the LATCH system and really easy to use and the level makes it easy to know you have a the proper angle for the seat  It was much more difficult with the Graco seat that is for sure  The straps are easy to use and adjust and the car seat looks very nice and stylish  I got the Miro patterned fabric and it is lovely and gender neutral which was a big deal to me because this was a surprise baby  It just looks and feels to be of high qualityCar seat consThis seat is heavy I carry it a lot but I always opt to use the stroller with the car seat it I am going to be walking any short distance because the seat with my baby just seems like a lot to lug around  I know my Graco one wasnt this heavy  Also it doesnt fit into a shopping cart very easily making shopping with baby without the assistance of another person pretty difficult  I finally started just carrying my infant son with my baby Ktan and leaving the car seat in the car  Now you can turn the car seat sideways on top of the cart or fit it in the actual cart but that leaves little room for anything else and there is safety issues too  So if you are a single parent or dont have a lot of help with going grocery shopping this could be a concern for you while baby is small and cant sit up by themselvesStroller prosFirst off I LOVE this stroller  I have NEVER had a stroller that is so easy to use and pushes through any terrain with such ease  I keep this stroller in the back of my vehicle at all times and I pull it out and use it so much  I can easily open this stroller with one hand and fold it with one hand  That is literally unheard of in stroller land even with a cheap little umbrella stroller  I have taken this stroller on a nature path full of uneven rocky terrain without a hiccup it rides so smooth  The car seat fits in so easily to the stroller making it basically effortless to get going even when I have 2 older boys and a infant get around by myself  Also I am on the tall side 59 for a girl and I love the adjustable height of the handle  no longer will I kill my back pushing a stroller  I know when my kiddo outgrows the car seat we will still use this stroller for a few years  It has a nice big basket at the bottom multiple drink holders a snack tray and a small item tray for the parent too  I have honestly used this stroller way more than I used the Graco one the entire time I owned it  I think this stroller really makes the travel system  The car seat itself is great but the stroller really takes this system to another level  Did I mention how easy it is to open and fold the stroller and you can do it with one hand  Seriously I cant say enough about this strollerStroller consThe only con I can find right now is that this stroller is massive  I have a Honda Pilot and it takes up a good chunk of my back storage areaand that is saying something  Someone with a smaller vehicle would probably need to see the stroller folded to tell if they are going to have room for it in their vehicleAll in all this is a great system for myself but I dont think it would work for everyone with the weight of the car seat and how big the stroller is  Probably be best to view and get your hands on the system in person before buying']\n",
      ">>>most negative reviews\n",
      "['Looks really cute however the cloth smells funny and gave my baby some rash after 15 mins wearingRequested a return need to pay 25 restocking fee plus shipping25 order maybe 5 back eventuallyAlso the return must be brand new condition Really UnbelievableDo yourself a favor and See the return policy by yourself before making an orderHelloBelow is return instructions this item must not be worn or used or the return will not be refundedThank you for ordering from us Here is your RMA as well as return instructions All returns must be in brand new original condition Please read our return policy Return policy link is provided for you in this emailAll refunds issued are determined by the outcome of inspections Any return of costumes used worn signs of pet hair human hair or washed will void all refund All boxes for shoes NEED to be unmarked and in original condition ALL returns NEED to be in original packaging to qualify for an authorized returnPlease note If you are returning a costume and need a different size we suggest that you place a new order for the item you need This will insure that you get the item quicker If you order from us simply email us your new order and we will waive the restocking fee on your returnsReturn Instructions ALL RETURNS NEED TO BE IN ORIGINAL PACKAGINGItems MUST BE POSTMARKED WITHIN 3 DAYS of  RECEIVING RMA TodaySimply repackage itemon the outside of the packaging please write RMAWe do not cover shipping so please feel free to use any shippingmethod you likeItem is also subject to a 25 restocking fee and all incurred shipping costs associated  with this returnShip to Brands on Sale'\n",
      " 'I loved all the features of the car seat  It is an awesome car seat and you could take it from one car to another and adjust from rearfacing infant to forward facing 4 yo in a minute or two  The features are awesomeI purchased this about a week ago  Although I loved the ease of use for me I was unhappy with my 2 yos posture  regardless of the incline used  I decided to return it  As a PT Im particular about posture  The back of the seat is more curved than out Chicco key fit with the legs slightly elevated and therefore creating a rounded postureI was SHOCKED  when I went to return the item purchased through AMAZON LLC  that I couldnt print a return label  Turns out this is a NON returnable item  Its not that you would even have to pay for the return shipping  you cant return it AT ALL  I even double checked and the vendor was definitely AMAZON  Not an outside VendorAs someone who buys thousands of dollars worth of stuff directly from Amazon I was really surprised  Ive never encountered anything like this and Ive returned things in the past  It is usually very simpleI dont think there was any warning when I bought it that it was non returnable  I definitely cant find any sort of warning on product page nowDouble check with the vendor before you buy this if you think there is even the slightest chance you will want to return it'\n",
      " 'I searched for Baby Blanket Made in the USA and the Manual Woodworkers Tiny Talks Travel Blanket showed as a result  I was very excited and added it to my registry  I was also very excited when I opened the gift but was soon very disappointed to see that although is says clearly and in large print on the actual blanket Made in the USA the tag on the blanket says Made in China  I was disgusted  I understand if the manufacturer was stating that the baby is made in the USA but really it wouldnt be difficult to actually manufacture this blanket in the USA and really have something to be proud of  Plenty of companies manufacture blankets in the USA and they are excellent quality and a great value with a low priceAnimals on the Farm Baby Blanket  Made in the USASheetWorld Fitted Crib  Toddler Sheet  Monster Trucks Blue  Made In USAIt can be done and I am disappointed in this companys false advertising  When I tried to return the product out of principal I received a confused response from the seller about how they dont understand Amazons return policy and I was unable to respond to that message  I have been very disappointed in Amazons ease of returns from third party suppliers  I will not be purchasing items through Amazon that are from a third party supplier any more  I have also been completely disgusted with Amazons customer service online  It is too bad the item could be a real winner if it had just actually been made in the USA or at least the online description could have stated that it was manufactured in China'\n",
      " 'I received this glider and it was broke and wood was chipped off on the seat  It looked like it was poorly packaged since the two glider bases were side by side without foam between them  Amazon would not let me choose a preprinted return label as one of my options for return  I could only take it to UPS  The box was huge and heavy and very difficult to transport  It cost 86 to return well over the 34 Amazon said they would reimburse  I am now waiting to see if I will get the full amount refunded when my return was recieved by Amazon  I was very unhappy with what I had to go through when the chair was broken when received'\n",
      " 'My wife and I were looking for a monitor for our second son and we thought this one looked pretty good We read some great reviews and decided to get it It is a waste of money The Out of Range alarm beeps regularly when I am in the same house less than 75 ft away from our son Its nice to have the rechargeable battery but other than that this is really a waste Our house isnt huge but its big enough to present a problemOur other son had a monitor that wasnt available where we purchased this one we moved recently and we love that one The range is amazing 200 ft I took our trash to the dumpster and I was still able to hear my mother and wife talking in it We lived in seminary housing and the walls were concrete so thats amazing The Sony doesnt even work in our current house with regular wallsConsidering that this is made from a decent company we are very disappointed with the way it turned out I hope someone will read this review and not purchase this monitorI wish we had read enough negative reviews to stay away from it A waste of money']\n"
     ]
    },
    {
     "data": {
      "text/plain": [
       "0.8689994303019399"
      ]
     },
     "execution_count": 150,
     "metadata": {},
     "output_type": "execute_result"
    }
   ],
   "source": [
    "new_model = LogisticRegression()\n",
    "new_model.fit(x_train_new, y_train)\n",
    "\n",
    "probability = new_model.predict_proba(x_test_new)\n",
    "\n",
    "sorted_negatives_indexes = [index for index, value in sorted(enumerate(probability[:, 0]), key=lambda x: x[1], reverse=True)[:5]]\n",
    "sorted_positives_indexes = [index for index, value in sorted(enumerate(probability[:, 1]), key=lambda x: x[1], reverse=True)[:5]]\n",
    "\n",
    "print(\">>>most positive reviews\")\n",
    "print(x_test_raw[sorted_positives_indexes])\n",
    "print(\">>>most negative reviews\")\n",
    "print(x_test_raw[sorted_negatives_indexes])\n",
    "\n",
    "new_model.score(x_test_new, y_test)"
   ]
  },
  {
   "cell_type": "code",
   "execution_count": 151,
   "metadata": {},
   "outputs": [
    {
     "name": "stdout",
     "output_type": "stream",
     "text": [
      "love: 1.356642692388926\n",
      "great: 0.9304455970455212\n",
      "easy: 1.1911831942495426\n",
      "old: 0.07193430042721062\n",
      "little: 0.5015727915334721\n",
      "perfect: 1.5210846987612965\n",
      "loves: 1.7004351873496204\n",
      "well: 0.49631522350373436\n",
      "able: 0.19393899578834797\n",
      "car: 0.07434929700403688\n",
      "broke: -1.6680562824339067\n",
      "less: -0.2071430591846399\n",
      "even: -0.4910435852746328\n",
      "waste: -2.0079159425522124\n",
      "disappointed: -2.3889031315891938\n",
      "work: -0.6377398258925681\n",
      "product: -0.31252413709867266\n",
      "money: -0.9391017677299048\n",
      "would: -0.3398058943932005\n",
      "return: -2.0782374013451674\n"
     ]
    }
   ],
   "source": [
    "#b)\n",
    "for word, coef in zip(vectorizer.get_feature_names_out(), new_model.coef_[0]):\n",
    "    print(f\"{word}: {coef}\")"
   ]
  },
  {
   "cell_type": "code",
   "execution_count": 152,
   "metadata": {},
   "outputs": [],
   "source": [
    "import sys, time"
   ]
  },
  {
   "cell_type": "code",
   "execution_count": 160,
   "metadata": {
    "collapsed": true
   },
   "outputs": [
    {
     "name": "stdout",
     "output_type": "stream",
     "text": [
      "341 µs ± 2.57 µs per loop (mean ± std. dev. of 7 runs, 1,000 loops each)\n",
      "CPU times: user 2.77 s, sys: 332 µs, total: 2.77 s\n",
      "Wall time: 2.77 s\n"
     ]
    }
   ],
   "source": [
    "%%time\n",
    "%%timeit\n",
    "new_model.predict(x_test_new)"
   ]
  },
  {
   "cell_type": "code",
   "execution_count": 161,
   "metadata": {},
   "outputs": [
    {
     "name": "stdout",
     "output_type": "stream",
     "text": [
      "4.26 ms ± 169 µs per loop (mean ± std. dev. of 7 runs, 100 loops each)\n",
      "CPU times: user 3.39 s, sys: 2.24 ms, total: 3.4 s\n",
      "Wall time: 3.39 s\n"
     ]
    }
   ],
   "source": [
    "%%time\n",
    "%%timeit\n",
    "model.predict(x_test)"
   ]
  },
  {
   "cell_type": "code",
   "execution_count": 162,
   "metadata": {},
   "outputs": [
    {
     "name": "stdout",
     "output_type": "stream",
     "text": [
      "first model score: 0.9327456448082516\n",
      "second model score: 0.8689994303019399\n"
     ]
    }
   ],
   "source": [
    "print(f\"first model score: {model.score(x_test, y_test)}\")\n",
    "print(f\"second model score: {new_model.score(x_test_new, y_test)}\")"
   ]
  }
 ],
 "metadata": {
  "anaconda-cloud": {},
  "kernelspec": {
   "display_name": "Python 3",
   "language": "python",
   "name": "python3"
  },
  "language_info": {
   "codemirror_mode": {
    "name": "ipython",
    "version": 3
   },
   "file_extension": ".py",
   "mimetype": "text/x-python",
   "name": "python",
   "nbconvert_exporter": "python",
   "pygments_lexer": "ipython3",
   "version": "3.11.6"
  }
 },
 "nbformat": 4,
 "nbformat_minor": 4
}
